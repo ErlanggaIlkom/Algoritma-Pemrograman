{
 "cells": [
  {
   "cell_type": "code",
   "execution_count": 2,
   "metadata": {},
   "outputs": [
    {
     "name": "stdout",
     "output_type": "stream",
     "text": [
      "Hallo Semua\n",
      "pertemuan ke - 10\n"
     ]
    }
   ],
   "source": [
    "print ('Hallo Semua')\n",
    "print ('pertemuan ke - 10')"
   ]
  },
  {
   "cell_type": "code",
   "execution_count": 3,
   "metadata": {},
   "outputs": [
    {
     "name": "stdout",
     "output_type": "stream",
     "text": [
      "Banyaknya tumpukan buku saat ini :  [1, 2, 3, 4, 5]\n",
      "Buku yang masuk yaitu buku ke - :  6\n",
      "Jumlah tumpukan buku setelah menggunakan fungsi APPEND :  [1, 2, 3, 4, 5, 6]\n",
      "Tumpukan buku setelah menggunakan fungsi POP :  [1, 2, 3, 4, 5]\n"
     ]
    }
   ],
   "source": [
    "# STACK\n",
    "tumpukan_buku = [1,2,3,4,5]\n",
    "print('Banyaknya tumpukan buku saat ini : ',tumpukan_buku)\n",
    "tumpukan_buku.append(6) #fungsi append untuk menambahkan\n",
    "print('Buku yang masuk yaitu buku ke - : ',6)\n",
    "print('Jumlah tumpukan buku setelah menggunakan fungsi APPEND : ',tumpukan_buku)\n",
    "\n",
    "tumpukan_buku.pop() #fungsi pop untuk menghilangkan variabel terakhir\n",
    "print('Tumpukan buku setelah menggunakan fungsi POP : ',tumpukan_buku)"
   ]
  },
  {
   "cell_type": "code",
   "execution_count": 11,
   "metadata": {},
   "outputs": [
    {
     "name": "stdout",
     "output_type": "stream",
     "text": [
      "Silahkan Memilih Operasi 1. push 2. pop 3. quit\n",
      "['1']\n",
      "Silahkan Memilih Operasi 1. push 2. pop 3. quit\n",
      "['1', '2']\n",
      "Silahkan Memilih Operasi 1. push 2. pop 3. quit\n",
      "['1', '2', '3']\n",
      "Silahkan Memilih Operasi 1. push 2. pop 3. quit\n",
      "['1', '2', '3', '4']\n",
      "Silahkan Memilih Operasi 1. push 2. pop 3. quit\n",
      "['1', '2', '3', '4', '2']\n",
      "Silahkan Memilih Operasi 1. push 2. pop 3. quit\n",
      "Angka yang Terhapus\n",
      "['1', '2', '3', '4']\n",
      "Silahkan Memilih Operasi 1. push 2. pop 3. quit\n"
     ]
    }
   ],
   "source": [
    "#Latihan 2 fungsi push dan \n",
    "stack = []\n",
    "def push():\n",
    "    angka = input('Masukan Angka : ')\n",
    "    stack.append(angka)\n",
    "    print(stack)\n",
    "\n",
    "def pop_angka():\n",
    "    e = stack.pop()\n",
    "    print('Angka yang Terhapus')\n",
    "    print(stack)\n",
    "\n",
    "while True:\n",
    "    print('Silahkan Memilih Operasi 1. push 2. pop 3. quit')\n",
    "    choice = int(input())\n",
    "    if choice==1:\n",
    "        push()\n",
    "    elif choice==2:\n",
    "        pop_angka()\n",
    "    elif choice==3:\n",
    "        break\n",
    "    else:\n",
    "        print('Masukan operasi yang benar!')\n",
    "\n",
    "\n"
   ]
  },
  {
   "cell_type": "code",
   "execution_count": 12,
   "metadata": {},
   "outputs": [
    {
     "name": "stdout",
     "output_type": "stream",
     "text": [
      "Silahkan memilih operasi 1. push 2. pop 3. quit\n",
      "['1']\n",
      "Silahkan memilih operasi 1. push 2. pop 3. quit\n",
      "['1', '2']\n",
      "Silahkan memilih operasi 1. push 2. pop 3. quit\n",
      "['1', '2', '3']\n",
      "Silahkan memilih operasi 1. push 2. pop 3. quit\n",
      "Stacknya Penuh\n",
      "Silahkan memilih operasi 1. push 2. pop 3. quit\n",
      "Masukan operasi yang benar!\n",
      "Silahkan memilih operasi 1. push 2. pop 3. quit\n"
     ]
    }
   ],
   "source": [
    "# Latihan ke - 3 fungsi len\n",
    "\n",
    "stack = []\n",
    "def push():\n",
    "    if len(stack)==n: # Batasan stack yang akan diinputkan\n",
    "        print('Stacknya Penuh')\n",
    "    else:\n",
    "        angka = input('Masukan Angka : ' )\n",
    "        stack.append(angka)\n",
    "        print(stack)\n",
    "def pop_angka():\n",
    "    e = stack.pop()\n",
    "    print('Angka yang Terhapus : ',e)\n",
    "    print(stack)\n",
    "\n",
    "n = int(input('Batasan dari stack : '))\n",
    "while True:\n",
    "    print('Silahkan memilih operasi 1. push 2. pop 3. quit')\n",
    "    choice = int(input())\n",
    "    if choice==1:\n",
    "        push()\n",
    "    elif choice==2:\n",
    "        pop_angka()\n",
    "    elif choice==3:\n",
    "        break\n",
    "    else:\n",
    "        print('Masukan operasi yang benar!')\n",
    "    "
   ]
  },
  {
   "cell_type": "code",
   "execution_count": 16,
   "metadata": {},
   "outputs": [
    {
     "name": "stdout",
     "output_type": "stream",
     "text": [
      "Silahkan memilih operasi 1. push 2. peek 3. quit\n",
      "['1']\n",
      "Silahkan memilih operasi 1. push 2. peek 3. quit\n",
      "['1', '2']\n",
      "Silahkan memilih operasi 1. push 2. peek 3. quit\n",
      "['1', '2', '3']\n",
      "Silahkan memilih operasi 1. push 2. peek 3. quit\n",
      "['1', '2', '3', '4']\n",
      "Silahkan memilih operasi 1. push 2. peek 3. quit\n",
      "Huruf Terakhir Tampil :  4\n",
      "['1', '2', '3', '4']\n",
      "Silahkan memilih operasi 1. push 2. peek 3. quit\n"
     ]
    }
   ],
   "source": [
    "# Fungsi ke - 4 peek\n",
    "\n",
    "stack = []\n",
    "def push():\n",
    "    huruf = input('Masukan Huruf : ')\n",
    "    stack.append(huruf)\n",
    "    print(stack)\n",
    "def peek():\n",
    "    e = stack[-1]\n",
    "    print('Huruf Terakhir Tampil : ',e)\n",
    "    print(stack)\n",
    "\n",
    "while True:\n",
    "    print('Silahkan memilih operasi 1. push 2. peek 3. quit')\n",
    "    choice = int(input())\n",
    "    if choice==1:\n",
    "        push()\n",
    "    elif choice==2:\n",
    "        peek() # Untuk menampilkan variabel terakhir\n",
    "    elif choice==3:\n",
    "        break\n",
    "    else:\n",
    "        print('Masukan operasi yang benar!')\n",
    "    \n",
    "\n"
   ]
  },
  {
   "cell_type": "code",
   "execution_count": 20,
   "metadata": {},
   "outputs": [
    {
     "name": "stdout",
     "output_type": "stream",
     "text": [
      "2\n"
     ]
    }
   ],
   "source": [
    "# Fungsi put\n",
    "\n",
    "import queue\n",
    "\n",
    "q = queue.Queue()\n",
    "\n",
    "q.put('LOL')\n",
    "q.put('wkwk')\n",
    "\n",
    "\n",
    "print(q.qsize())\n"
   ]
  },
  {
   "cell_type": "code",
   "execution_count": 21,
   "metadata": {},
   "outputs": [
    {
     "name": "stdout",
     "output_type": "stream",
     "text": [
      "2\n",
      "False\n"
     ]
    }
   ],
   "source": [
    "# Fungsi Empty()\n",
    "import queue\n",
    "\n",
    "q = queue.Queue()\n",
    "\n",
    "q.put('Wkwkwk')\n",
    "q.put('Lmao')\n",
    "\n",
    "print(q.qsize())\n",
    "print(q.empty())\n"
   ]
  },
  {
   "cell_type": "code",
   "execution_count": 22,
   "metadata": {},
   "outputs": [
    {
     "name": "stdout",
     "output_type": "stream",
     "text": [
      "5\n",
      "True\n"
     ]
    }
   ],
   "source": [
    "# Fungsi Full()\n",
    "import queue\n",
    "\n",
    "q = queue.Queue(maxsize = 5)\n",
    "q.put('a')\n",
    "q.put('b')\n",
    "q.put('c')\n",
    "q.put('d')\n",
    "q.put('e')\n",
    "\n",
    "print(q.qsize())\n",
    "print(q.full())"
   ]
  },
  {
   "cell_type": "code",
   "execution_count": 23,
   "metadata": {},
   "outputs": [
    {
     "name": "stdout",
     "output_type": "stream",
     "text": [
      "Angka Yang di Input\n",
      "10\n",
      "20\n",
      "30\n",
      "40\n",
      "50\n",
      "60\n",
      "\n",
      "Angka yang di hapus\n",
      "10\n"
     ]
    }
   ],
   "source": [
    "# Fungsi Remove (FIFO)\n",
    "import queue\n",
    "print('Angka Yang di Input')\n",
    "q = queue.Queue()\n",
    "q.put(10)\n",
    "print(10)\n",
    "q.put(20)\n",
    "print(20)\n",
    "q.put(30)\n",
    "print(30)\n",
    "q.put(40)\n",
    "print(40)\n",
    "q.put(50)\n",
    "print(50)\n",
    "q.put(60)\n",
    "print(60)\n",
    "\n",
    "item = q.get()\n",
    "print('\\nAngka yang di hapus')\n",
    "print(item)"
   ]
  },
  {
   "cell_type": "code",
   "execution_count": 1,
   "metadata": {},
   "outputs": [
    {
     "name": "stdout",
     "output_type": "stream",
     "text": [
      "Data saat ini :  deque([9, 8, 7, 6, 5])\n",
      "\n",
      "Data yang masuk :  10\n",
      "Perubahan data pertama :  deque([9, 8, 7, 6, 5, 10])\n",
      "\n",
      "Data yang masuk :  11\n",
      "Perubahan data pertama :  deque([9, 8, 7, 6, 5, 10, 11])\n",
      "\n",
      "Data yang keluar pertama :  9\n",
      "Data sekarang :  deque([8, 7, 6, 5, 10, 11])\n",
      "\n",
      "Data yang keluar pertama :  8\n",
      "Data sekarang :  deque([7, 6, 5, 10, 11])\n"
     ]
    }
   ],
   "source": [
    "from collections import deque\n",
    "\n",
    "antrian = deque([9,8,7,6,5])\n",
    "print('Data saat ini : ',antrian)\n",
    "\n",
    "antrian.append(10)\n",
    "print('\\nData yang masuk : ',10)\n",
    "print('Perubahan data pertama : ',antrian)\n",
    "\n",
    "antrian.append(11)\n",
    "print('\\nData yang masuk : ',11)\n",
    "print('Perubahan data pertama : ',antrian)\n",
    "\n",
    "keluar = antrian.popleft()\n",
    "print('\\nData yang keluar pertama : ',keluar)\n",
    "print('Data sekarang : ',antrian)\n",
    "\n",
    "keluar = antrian.popleft()\n",
    "print('\\nData yang keluar pertama : ',keluar)\n",
    "print('Data sekarang : ',antrian)\n"
   ]
  },
  {
   "cell_type": "code",
   "execution_count": 2,
   "metadata": {},
   "outputs": [
    {
     "name": "stdout",
     "output_type": "stream",
     "text": [
      "Queue belum terisi\n",
      "0\n",
      "\n",
      "Queue setelah input huruf\n",
      "a\n",
      "b\n",
      "c\n",
      "\n",
      "Apakah Queue penuh karena batas maksimal 3 ? :  True\n",
      "\n",
      "Queue yang telah di input diatas terhapus\n",
      "a\n",
      "b\n",
      "c\n",
      "\n",
      "Apakah Queue Kosong Kembali ? :  True\n"
     ]
    }
   ],
   "source": [
    "from queue import Queue\n",
    "\n",
    "#Inisialisasi Queue\n",
    "q = Queue(maxsize = 3)\n",
    "\n",
    "#ukuran maksimal dari queue\n",
    "print('Queue belum terisi')\n",
    "print(q.qsize())\n",
    "\n",
    "#masukan huruf ke queue\n",
    "q.put('a')\n",
    "q.put('b')\n",
    "q.put('c')\n",
    "print('\\nQueue setelah input huruf')\n",
    "print('a')\n",
    "print('b')\n",
    "print('c')\n",
    "\n",
    "#Queue penuh\n",
    "print('\\nApakah Queue penuh karena batas maksimal 3 ? : ',q.full())\n",
    "\n",
    "#Hapus huruf dari queue\n",
    "print('\\nQueue yang telah di input diatas terhapus')\n",
    "print(q.get()) #get memiliki fungsi yang sama dengan pop\n",
    "print(q.get())\n",
    "print(q.get())\n",
    "\n",
    "#Queue kembali kosong\n",
    "print('\\nApakah Queue Kosong Kembali ? : ',q.empty())"
   ]
  },
  {
   "cell_type": "code",
   "execution_count": 3,
   "metadata": {},
   "outputs": [
    {
     "name": "stdout",
     "output_type": "stream",
     "text": [
      "0\n",
      "1\n",
      "2\n",
      "3\n",
      "4\n",
      "5\n",
      "6\n",
      "7\n",
      "8\n",
      "9\n"
     ]
    }
   ],
   "source": [
    "#Perulangan Queue\n",
    "import queue\n",
    "q = queue.Queue()\n",
    "\n",
    "for item in range(10):\n",
    "    q.put(item)\n",
    "\n",
    "angka = object()\n",
    "\n",
    "for item in iter(q.get, angka):\n",
    "    print(item)"
   ]
  },
  {
   "cell_type": "code",
   "execution_count": 3,
   "metadata": {},
   "outputs": [
    {
     "name": "stdout",
     "output_type": "stream",
     "text": [
      "Silahkan memilih operasi 1. append [Misal : Input Kartu Mahasiswa] 2. quit\n",
      "['Muhammad Erlangga Gunawan']\n",
      "Silahkan memilih operasi 1. append [Misal : Input Kartu Mahasiswa] 2. quit\n",
      "['Muhammad Erlangga Gunawan', 'I.2210161']\n",
      "Silahkan memilih operasi 1. append [Misal : Input Kartu Mahasiswa] 2. quit\n",
      "['Muhammad Erlangga Gunawan', 'I.2210161', 'FISIPKOM']\n",
      "Silahkan memilih operasi 1. append [Misal : Input Kartu Mahasiswa] 2. quit\n",
      "['Muhammad Erlangga Gunawan', 'I.2210161', 'FISIPKOM', 'Ilmu Komputer']\n",
      "Silahkan memilih operasi 1. append [Misal : Input Kartu Mahasiswa] 2. quit\n"
     ]
    }
   ],
   "source": [
    "#Biodata Kartu Mahasiswa : Nim > Nama > Fakultas > Prodi\n",
    "\n",
    "from queue import Queue\n",
    "\n",
    "queue = []\n",
    "\n",
    "def append():\n",
    "    data_Mhs = input(\"Mahasiswa Data : \")\n",
    "    queue.append(data_Mhs)\n",
    "    print(queue)\n",
    "\n",
    "while True:\n",
    "    print('Silahkan memilih operasi 1. append [Misal : Input Kartu Mahasiswa] 2. quit')\n",
    "    choice = int(input())\n",
    "    if choice==1:\n",
    "        append()\n",
    "    elif choice==2:\n",
    "        break\n",
    "    else:\n",
    "        print('Masukan operasi yang benar!')"
   ]
  }
 ],
 "metadata": {
  "kernelspec": {
   "display_name": "Python 3.10.7 64-bit",
   "language": "python",
   "name": "python3"
  },
  "language_info": {
   "codemirror_mode": {
    "name": "ipython",
    "version": 3
   },
   "file_extension": ".py",
   "mimetype": "text/x-python",
   "name": "python",
   "nbconvert_exporter": "python",
   "pygments_lexer": "ipython3",
   "version": "3.10.7"
  },
  "orig_nbformat": 4,
  "vscode": {
   "interpreter": {
    "hash": "9d56d0af1c8cb5923535d8089374a58b363a7b3bcf8118151a974cdaa6946585"
   }
  }
 },
 "nbformat": 4,
 "nbformat_minor": 2
}
